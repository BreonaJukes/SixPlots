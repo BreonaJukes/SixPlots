{
 "cells": [
  {
   "cell_type": "code",
   "execution_count": 1,
   "id": "50345a3d",
   "metadata": {},
   "outputs": [
    {
     "data": {
      "image/png": "[encoded data removed]",
      "text/plain": [
       "<Figure size 432x288 with 1 Axes>"
      ]
     },
     "metadata": {
      "needs_background": "light"
     },
     "output_type": "display_data"
    }
   ],
   "source": [
    "#imports matlotlib\n",
    "import matplotlib.pyplot as plt\n",
    "\n",
    "#lists the data for bars\n",
    "population_ages = [22,55,65,45,21,22,34,42,42,4,99,102,110,120,121,122,130,111,115,112,80,75,65,54,44,43,42,48]\n",
    "\n",
    "#separates the bars into groups of ten\n",
    "bins = [0,10,20,30,40,50,60,70,80,90,100,110,120,130]\n",
    "\n",
    "#plots the data, bins, bar and gives width\n",
    "plt.hist(population_ages, bins, histtype = 'bar', rwidth = 0.8)\n",
    "\n",
    "#labels the x-axis and y-axis and title\n",
    "plt.xlabel('x')\n",
    "plt.ylabel('y')\n",
    "plt.title('Histogram graph')\n",
    "plt.show()"
   ]
  },
  {
   "cell_type": "code",
   "execution_count": null,
   "id": "7b03e680",
   "metadata": {},
   "outputs": [],
   "source": []
  }
 ],
 "metadata": {
  "kernelspec": {
   "display_name": "Python 3 (ipykernel)",
   "language": "python",
   "name": "python3"
  },
  "language_info": {
   "codemirror_mode": {
    "name": "ipython",
    "version": 3
   },
   "file_extension": ".py",
   "mimetype": "text/x-python",
   "name": "python",
   "nbconvert_exporter": "python",
   "pygments_lexer": "ipython3",
   "version": "3.9.7"
  }
 },
 "nbformat": 4,
 "nbformat_minor": 5
}
